{
 "cells": [
  {
   "cell_type": "markdown",
   "id": "c0daea1c",
   "metadata": {},
   "source": [
    "# 1.Create a empty list and check its Data type"
   ]
  },
  {
   "cell_type": "code",
   "execution_count": 1,
   "id": "2c6d6924",
   "metadata": {},
   "outputs": [
    {
     "data": {
      "text/plain": [
       "list"
      ]
     },
     "execution_count": 1,
     "metadata": {},
     "output_type": "execute_result"
    }
   ],
   "source": [
    "a=[]\n",
    "type(a)"
   ]
  },
  {
   "cell_type": "markdown",
   "id": "fdf074db",
   "metadata": {},
   "source": [
    "# 2.Create a list in which at even places string are present and at odd places integervalue is present and the length of the string is 6."
   ]
  },
  {
   "cell_type": "code",
   "execution_count": 44,
   "id": "0f7e77fd",
   "metadata": {},
   "outputs": [
    {
     "data": {
      "text/plain": [
       "6"
      ]
     },
     "execution_count": 44,
     "metadata": {},
     "output_type": "execute_result"
    }
   ],
   "source": [
    "c=[1,\"a\",3,\"b\",4,\"c\"]\n",
    "len(c)"
   ]
  },
  {
   "cell_type": "markdown",
   "id": "12165ed9",
   "metadata": {},
   "source": [
    "# 3.Create a list which has 6 elements and print last three elements from the list"
   ]
  },
  {
   "cell_type": "code",
   "execution_count": 13,
   "id": "43577542",
   "metadata": {},
   "outputs": [
    {
     "data": {
      "text/plain": [
       "[4, 5, 6]"
      ]
     },
     "execution_count": 13,
     "metadata": {},
     "output_type": "execute_result"
    }
   ],
   "source": [
    "b=[1,2,3,4,5,6]\n",
    "b[3:6]"
   ]
  },
  {
   "cell_type": "markdown",
   "id": "31e2d457",
   "metadata": {},
   "source": [
    "# 4.What is the output : list = [1,2,3,4,5,6,7]     list[:]=?"
   ]
  },
  {
   "cell_type": "code",
   "execution_count": 14,
   "id": "f585484a",
   "metadata": {},
   "outputs": [
    {
     "data": {
      "text/plain": [
       "[1, 2, 3, 4, 5, 6, 7]"
      ]
     },
     "execution_count": 14,
     "metadata": {},
     "output_type": "execute_result"
    }
   ],
   "source": [
    "list = [1,2,3,4,5,6,7]\n",
    "list[:]"
   ]
  },
  {
   "cell_type": "markdown",
   "id": "05033f23",
   "metadata": {},
   "source": [
    "# 5.What is the output : list = [1,2,3,4,5,6,7] Print the even places items from the list."
   ]
  },
  {
   "cell_type": "code",
   "execution_count": 22,
   "id": "e4f10049",
   "metadata": {},
   "outputs": [
    {
     "data": {
      "text/plain": [
       "[2, 4, 6]"
      ]
     },
     "execution_count": 22,
     "metadata": {},
     "output_type": "execute_result"
    }
   ],
   "source": [
    "list1=[1,2,3,4,5,6,7]\n",
    "list1[1::2]"
   ]
  },
  {
   "cell_type": "markdown",
   "id": "35721fd5",
   "metadata": {},
   "source": [
    "# 6.What is the output : list = [1,2,3,4,10,11,7]print 10 and 11 item from the list ."
   ]
  },
  {
   "cell_type": "code",
   "execution_count": 24,
   "id": "df50e961",
   "metadata": {},
   "outputs": [
    {
     "data": {
      "text/plain": [
       "[10, 11]"
      ]
     },
     "execution_count": 24,
     "metadata": {},
     "output_type": "execute_result"
    }
   ],
   "source": [
    "list1=[1,2,3,4,10,11,7]\n",
    "list1[4:6]"
   ]
  },
  {
   "cell_type": "markdown",
   "id": "97ed8c23",
   "metadata": {},
   "source": [
    "# 7.Delete the 3 index value from the list and the print the list. list = [1, 2, 3, 4, 5, 6]  print(list)"
   ]
  },
  {
   "cell_type": "code",
   "execution_count": 29,
   "id": "33c82dd9",
   "metadata": {},
   "outputs": [
    {
     "data": {
      "text/plain": [
       "[1, 2, 4, 5, 6]"
      ]
     },
     "execution_count": 29,
     "metadata": {},
     "output_type": "execute_result"
    }
   ],
   "source": [
    "list1=[1,2,3,4,5,6]\n",
    "list1.remove(3)\n",
    "list1"
   ]
  },
  {
   "cell_type": "markdown",
   "id": "e11d0cbc",
   "metadata": {},
   "source": [
    "# 8.list = [1, \"a\", 3, 4, 5, 6]. replace \"a\" by 2 in the list. What is the new list?"
   ]
  },
  {
   "cell_type": "code",
   "execution_count": 33,
   "id": "35b3022c",
   "metadata": {},
   "outputs": [
    {
     "data": {
      "text/plain": [
       "[1, 2, 3, 4, 5, 6]"
      ]
     },
     "execution_count": 33,
     "metadata": {},
     "output_type": "execute_result"
    }
   ],
   "source": [
    "list1=[1,\"a\",3,4,5,6]\n",
    "list1[1]=2\n",
    "list1"
   ]
  },
  {
   "cell_type": "markdown",
   "id": "7597d83e",
   "metadata": {},
   "source": [
    "# 9.list = [1, 2, 3, 4, 5, 6]by using neagtive indexing replace 5 by 'e' in the list. print(list)"
   ]
  },
  {
   "cell_type": "code",
   "execution_count": 35,
   "id": "7fed2541",
   "metadata": {},
   "outputs": [
    {
     "data": {
      "text/plain": [
       "[1, 2, 3, 4, 'e', 6]"
      ]
     },
     "execution_count": 35,
     "metadata": {},
     "output_type": "execute_result"
    }
   ],
   "source": [
    "list2 = [1, 2, 3, 4, 5, 6]\n",
    "list2[-2]=\"e\"\n",
    "list2"
   ]
  },
  {
   "cell_type": "markdown",
   "id": "49f7f285",
   "metadata": {},
   "source": [
    "# 10.list = [1, 2, 3, 4, 5, 6] replace 1st and 2nd index value by (89,78) print(list)"
   ]
  },
  {
   "cell_type": "code",
   "execution_count": 36,
   "id": "7fd6a30e",
   "metadata": {},
   "outputs": [
    {
     "data": {
      "text/plain": [
       "[1, 89, 78, 3, 4, 5, 6]"
      ]
     },
     "execution_count": 36,
     "metadata": {},
     "output_type": "execute_result"
    }
   ],
   "source": [
    "list3=[1,2,3,4,5,6]\n",
    "list3[1:2]=(89,78)\n",
    "list3"
   ]
  },
  {
   "cell_type": "markdown",
   "id": "2024b291",
   "metadata": {},
   "source": [
    "# 11.Rermove Science item from the list. Subject =['math', 'science', 'hindi', 'SST', 'Sanskrit']"
   ]
  },
  {
   "cell_type": "code",
   "execution_count": 43,
   "id": "9544ae4e",
   "metadata": {},
   "outputs": [
    {
     "data": {
      "text/plain": [
       "['math', 'hindi', 'SST', 'Sanskrit']"
      ]
     },
     "execution_count": 43,
     "metadata": {},
     "output_type": "execute_result"
    }
   ],
   "source": [
    "subject =['math', 'science', 'hindi', 'SST', 'Sanskrit']\n",
    "subject.remove('science')\n",
    "subject\n"
   ]
  }
 ],
 "metadata": {
  "kernelspec": {
   "display_name": "Python 3",
   "language": "python",
   "name": "python3"
  },
  "language_info": {
   "codemirror_mode": {
    "name": "ipython",
    "version": 3
   },
   "file_extension": ".py",
   "mimetype": "text/x-python",
   "name": "python",
   "nbconvert_exporter": "python",
   "pygments_lexer": "ipython3",
   "version": "3.8.8"
  }
 },
 "nbformat": 4,
 "nbformat_minor": 5
}
